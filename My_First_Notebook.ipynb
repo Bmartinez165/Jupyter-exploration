{
 "cells": [
  {
   "cell_type": "code",
   "execution_count": 1,
   "id": "5e8d684c-0d2b-4a5c-a3c8-2b04a60c73f9",
   "metadata": {},
   "outputs": [
    {
     "name": "stdout",
     "output_type": "stream",
     "text": [
      "Hello, World!\n"
     ]
    }
   ],
   "source": [
    "print(\"Hello, World!\")"
   ]
  },
  {
   "cell_type": "code",
   "execution_count": 3,
   "id": "7f1dab08-56cc-4803-8a2d-e4e75d1cb0f1",
   "metadata": {},
   "outputs": [
    {
     "name": "stdout",
     "output_type": "stream",
     "text": [
      "Goodbye, World!\n"
     ]
    }
   ],
   "source": [
    "print(\"Goodbye, World!\")"
   ]
  },
  {
   "cell_type": "code",
   "execution_count": null,
   "id": "ccbeb0be-61ae-4616-85bf-e577a3c7cba7",
   "metadata": {},
   "outputs": [],
   "source": [
    "In Jupyter Nottebook there are two essential parts, \n",
    "Code cells and Markdown cells. I will give a brief explanation of \n",
    "both. Markdown cells represents your work by providing an explanation\n",
    "to the reader about the code in the block below it. A code Cell\n",
    "will allow the user to create, update edit, read and delete a code\n",
    "will full syntax and tab completion."
   ]
  }
 ],
 "metadata": {
  "kernelspec": {
   "display_name": "anaconda-panel-2023.05-py310",
   "language": "python",
   "name": "conda-env-anaconda-panel-2023.05-py310-py"
  },
  "language_info": {
   "codemirror_mode": {
    "name": "ipython",
    "version": 3
   },
   "file_extension": ".py",
   "mimetype": "text/x-python",
   "name": "python",
   "nbconvert_exporter": "python",
   "pygments_lexer": "ipython3",
   "version": "3.11.5"
  }
 },
 "nbformat": 4,
 "nbformat_minor": 5
}
